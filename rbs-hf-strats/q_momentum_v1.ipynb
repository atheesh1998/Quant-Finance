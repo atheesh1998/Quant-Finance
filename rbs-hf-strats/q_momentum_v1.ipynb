{
 "cells": [
  {
   "cell_type": "code",
   "execution_count": 18,
   "id": "6e7e5fb6",
   "metadata": {},
   "outputs": [],
   "source": [
    "import pandas as pd\n",
    "import numpy as np\n",
    "import yfinance as yf\n",
    "import datetime as dt\n",
    "import matplotlib.pyplot as plt\n",
    "from dateutil.relativedelta import relativedelta"
   ]
  },
  {
   "cell_type": "code",
   "execution_count": 2,
   "id": "7934463b",
   "metadata": {},
   "outputs": [
    {
     "name": "stderr",
     "output_type": "stream",
     "text": [
      "[*********************100%***********************]  30 of 30 completed\n"
     ]
    }
   ],
   "source": [
    "dji_tickers = [\n",
    "    'AAPL', 'AMGN', 'AXP', 'BA', 'CAT', 'CRM', 'CSCO', 'CVX', 'DIS', 'DOW',\n",
    "    'GS', 'HD', 'HON', 'IBM', 'INTC', 'JNJ', 'JPM', 'KO', 'MCD', 'MMM',\n",
    "    'MRK', 'MSFT', 'NKE', 'PG', 'TRV', 'UNH', 'V', 'VZ', 'WBA', 'WMT'\n",
    "]\n",
    "\n",
    "def download_data(tickers, start_date, end_date):\n",
    "    data = yf.download(tickers, start=start_date, end=end_date)\n",
    "    return data\n",
    "\n",
    "start_date = '2022-01-01'\n",
    "end_date = '2024-10-01'\n",
    "data = download_data(dji_tickers, start_date, end_date)\n"
   ]
  },
  {
   "cell_type": "code",
   "execution_count": 3,
   "id": "905da16e",
   "metadata": {},
   "outputs": [
    {
     "data": {
      "text/html": [
       "<div>\n",
       "<style scoped>\n",
       "    .dataframe tbody tr th:only-of-type {\n",
       "        vertical-align: middle;\n",
       "    }\n",
       "\n",
       "    .dataframe tbody tr th {\n",
       "        vertical-align: top;\n",
       "    }\n",
       "\n",
       "    .dataframe thead th {\n",
       "        text-align: right;\n",
       "    }\n",
       "</style>\n",
       "<table border=\"1\" class=\"dataframe\">\n",
       "  <thead>\n",
       "    <tr style=\"text-align: right;\">\n",
       "      <th>Ticker</th>\n",
       "      <th>AAPL</th>\n",
       "      <th>AMGN</th>\n",
       "      <th>AXP</th>\n",
       "      <th>BA</th>\n",
       "      <th>CAT</th>\n",
       "      <th>CRM</th>\n",
       "      <th>CSCO</th>\n",
       "      <th>CVX</th>\n",
       "      <th>DIS</th>\n",
       "      <th>DOW</th>\n",
       "      <th>...</th>\n",
       "      <th>MRK</th>\n",
       "      <th>MSFT</th>\n",
       "      <th>NKE</th>\n",
       "      <th>PG</th>\n",
       "      <th>TRV</th>\n",
       "      <th>UNH</th>\n",
       "      <th>V</th>\n",
       "      <th>VZ</th>\n",
       "      <th>WBA</th>\n",
       "      <th>WMT</th>\n",
       "    </tr>\n",
       "    <tr>\n",
       "      <th>Date</th>\n",
       "      <th></th>\n",
       "      <th></th>\n",
       "      <th></th>\n",
       "      <th></th>\n",
       "      <th></th>\n",
       "      <th></th>\n",
       "      <th></th>\n",
       "      <th></th>\n",
       "      <th></th>\n",
       "      <th></th>\n",
       "      <th></th>\n",
       "      <th></th>\n",
       "      <th></th>\n",
       "      <th></th>\n",
       "      <th></th>\n",
       "      <th></th>\n",
       "      <th></th>\n",
       "      <th></th>\n",
       "      <th></th>\n",
       "      <th></th>\n",
       "      <th></th>\n",
       "    </tr>\n",
       "  </thead>\n",
       "  <tbody>\n",
       "    <tr>\n",
       "      <th>2022-01-03 00:00:00+00:00</th>\n",
       "      <td>179.076599</td>\n",
       "      <td>206.158524</td>\n",
       "      <td>161.699936</td>\n",
       "      <td>207.860001</td>\n",
       "      <td>195.060089</td>\n",
       "      <td>254.330933</td>\n",
       "      <td>57.543476</td>\n",
       "      <td>106.186859</td>\n",
       "      <td>155.533218</td>\n",
       "      <td>49.439911</td>\n",
       "      <td>...</td>\n",
       "      <td>71.088356</td>\n",
       "      <td>326.287750</td>\n",
       "      <td>158.935196</td>\n",
       "      <td>151.253021</td>\n",
       "      <td>147.017151</td>\n",
       "      <td>482.886658</td>\n",
       "      <td>216.382172</td>\n",
       "      <td>43.423008</td>\n",
       "      <td>43.733074</td>\n",
       "      <td>46.305843</td>\n",
       "    </tr>\n",
       "    <tr>\n",
       "      <th>2022-01-04 00:00:00+00:00</th>\n",
       "      <td>176.803818</td>\n",
       "      <td>207.204361</td>\n",
       "      <td>166.890915</td>\n",
       "      <td>213.630005</td>\n",
       "      <td>205.500992</td>\n",
       "      <td>247.132889</td>\n",
       "      <td>56.132153</td>\n",
       "      <td>108.118965</td>\n",
       "      <td>154.511276</td>\n",
       "      <td>50.778717</td>\n",
       "      <td>...</td>\n",
       "      <td>71.217842</td>\n",
       "      <td>320.692810</td>\n",
       "      <td>160.595291</td>\n",
       "      <td>151.782272</td>\n",
       "      <td>150.084946</td>\n",
       "      <td>471.946075</td>\n",
       "      <td>217.388702</td>\n",
       "      <td>44.275898</td>\n",
       "      <td>44.079243</td>\n",
       "      <td>45.457520</td>\n",
       "    </tr>\n",
       "    <tr>\n",
       "      <th>2022-01-05 00:00:00+00:00</th>\n",
       "      <td>172.100861</td>\n",
       "      <td>204.748901</td>\n",
       "      <td>165.112473</td>\n",
       "      <td>213.070007</td>\n",
       "      <td>207.074707</td>\n",
       "      <td>226.663773</td>\n",
       "      <td>55.243206</td>\n",
       "      <td>108.822372</td>\n",
       "      <td>153.975510</td>\n",
       "      <td>50.726555</td>\n",
       "      <td>...</td>\n",
       "      <td>72.947189</td>\n",
       "      <td>308.382141</td>\n",
       "      <td>156.599472</td>\n",
       "      <td>152.469391</td>\n",
       "      <td>150.811768</td>\n",
       "      <td>470.782806</td>\n",
       "      <td>214.984772</td>\n",
       "      <td>44.731323</td>\n",
       "      <td>44.507839</td>\n",
       "      <td>46.072159</td>\n",
       "    </tr>\n",
       "    <tr>\n",
       "      <th>2022-01-06 00:00:00+00:00</th>\n",
       "      <td>169.227951</td>\n",
       "      <td>204.776199</td>\n",
       "      <td>166.625549</td>\n",
       "      <td>211.339996</td>\n",
       "      <td>209.185455</td>\n",
       "      <td>228.137222</td>\n",
       "      <td>55.829731</td>\n",
       "      <td>109.748360</td>\n",
       "      <td>155.672119</td>\n",
       "      <td>50.630924</td>\n",
       "      <td>...</td>\n",
       "      <td>72.900940</td>\n",
       "      <td>305.945282</td>\n",
       "      <td>155.431549</td>\n",
       "      <td>151.188049</td>\n",
       "      <td>153.228226</td>\n",
       "      <td>451.516479</td>\n",
       "      <td>214.740479</td>\n",
       "      <td>44.516029</td>\n",
       "      <td>43.222057</td>\n",
       "      <td>45.944107</td>\n",
       "    </tr>\n",
       "    <tr>\n",
       "      <th>2022-01-07 00:00:00+00:00</th>\n",
       "      <td>169.395203</td>\n",
       "      <td>206.704178</td>\n",
       "      <td>168.051819</td>\n",
       "      <td>215.500000</td>\n",
       "      <td>211.258575</td>\n",
       "      <td>227.300919</td>\n",
       "      <td>56.022179</td>\n",
       "      <td>111.324333</td>\n",
       "      <td>156.594849</td>\n",
       "      <td>51.378563</td>\n",
       "      <td>...</td>\n",
       "      <td>74.260399</td>\n",
       "      <td>306.101288</td>\n",
       "      <td>151.503326</td>\n",
       "      <td>151.104462</td>\n",
       "      <td>156.918976</td>\n",
       "      <td>440.893188</td>\n",
       "      <td>212.014084</td>\n",
       "      <td>45.454624</td>\n",
       "      <td>44.375969</td>\n",
       "      <td>46.382675</td>\n",
       "    </tr>\n",
       "    <tr>\n",
       "      <th>...</th>\n",
       "      <td>...</td>\n",
       "      <td>...</td>\n",
       "      <td>...</td>\n",
       "      <td>...</td>\n",
       "      <td>...</td>\n",
       "      <td>...</td>\n",
       "      <td>...</td>\n",
       "      <td>...</td>\n",
       "      <td>...</td>\n",
       "      <td>...</td>\n",
       "      <td>...</td>\n",
       "      <td>...</td>\n",
       "      <td>...</td>\n",
       "      <td>...</td>\n",
       "      <td>...</td>\n",
       "      <td>...</td>\n",
       "      <td>...</td>\n",
       "      <td>...</td>\n",
       "      <td>...</td>\n",
       "      <td>...</td>\n",
       "      <td>...</td>\n",
       "    </tr>\n",
       "    <tr>\n",
       "      <th>2024-09-24 00:00:00+00:00</th>\n",
       "      <td>227.120117</td>\n",
       "      <td>328.294678</td>\n",
       "      <td>265.516205</td>\n",
       "      <td>155.809998</td>\n",
       "      <td>384.548370</td>\n",
       "      <td>270.440002</td>\n",
       "      <td>52.121670</td>\n",
       "      <td>145.961075</td>\n",
       "      <td>93.690002</td>\n",
       "      <td>53.450001</td>\n",
       "      <td>...</td>\n",
       "      <td>114.959999</td>\n",
       "      <td>428.312683</td>\n",
       "      <td>87.459999</td>\n",
       "      <td>172.227402</td>\n",
       "      <td>237.979996</td>\n",
       "      <td>575.190002</td>\n",
       "      <td>272.262390</td>\n",
       "      <td>43.973545</td>\n",
       "      <td>8.278526</td>\n",
       "      <td>80.669998</td>\n",
       "    </tr>\n",
       "    <tr>\n",
       "      <th>2024-09-25 00:00:00+00:00</th>\n",
       "      <td>226.121216</td>\n",
       "      <td>310.377930</td>\n",
       "      <td>265.476318</td>\n",
       "      <td>152.220001</td>\n",
       "      <td>376.895874</td>\n",
       "      <td>274.089996</td>\n",
       "      <td>52.250683</td>\n",
       "      <td>142.516205</td>\n",
       "      <td>93.919998</td>\n",
       "      <td>52.840000</td>\n",
       "      <td>...</td>\n",
       "      <td>114.730003</td>\n",
       "      <td>431.246796</td>\n",
       "      <td>88.000000</td>\n",
       "      <td>171.253113</td>\n",
       "      <td>236.320007</td>\n",
       "      <td>576.309998</td>\n",
       "      <td>269.118347</td>\n",
       "      <td>43.865234</td>\n",
       "      <td>8.006781</td>\n",
       "      <td>81.400002</td>\n",
       "    </tr>\n",
       "    <tr>\n",
       "      <th>2024-09-26 00:00:00+00:00</th>\n",
       "      <td>227.269958</td>\n",
       "      <td>316.568451</td>\n",
       "      <td>267.451141</td>\n",
       "      <td>154.580002</td>\n",
       "      <td>389.560364</td>\n",
       "      <td>275.760010</td>\n",
       "      <td>52.449162</td>\n",
       "      <td>140.556213</td>\n",
       "      <td>95.199997</td>\n",
       "      <td>54.720001</td>\n",
       "      <td>...</td>\n",
       "      <td>113.089996</td>\n",
       "      <td>430.448395</td>\n",
       "      <td>89.389999</td>\n",
       "      <td>172.197571</td>\n",
       "      <td>236.050003</td>\n",
       "      <td>574.809998</td>\n",
       "      <td>271.174438</td>\n",
       "      <td>43.934158</td>\n",
       "      <td>8.268822</td>\n",
       "      <td>79.919998</td>\n",
       "    </tr>\n",
       "    <tr>\n",
       "      <th>2024-09-27 00:00:00+00:00</th>\n",
       "      <td>227.539658</td>\n",
       "      <td>320.110138</td>\n",
       "      <td>270.353546</td>\n",
       "      <td>156.320007</td>\n",
       "      <td>389.679932</td>\n",
       "      <td>276.640015</td>\n",
       "      <td>52.617874</td>\n",
       "      <td>144.020874</td>\n",
       "      <td>96.010002</td>\n",
       "      <td>55.080002</td>\n",
       "      <td>...</td>\n",
       "      <td>113.690002</td>\n",
       "      <td>427.164948</td>\n",
       "      <td>89.440002</td>\n",
       "      <td>172.535583</td>\n",
       "      <td>236.110001</td>\n",
       "      <td>581.849976</td>\n",
       "      <td>274.647858</td>\n",
       "      <td>44.200008</td>\n",
       "      <td>8.792902</td>\n",
       "      <td>79.779999</td>\n",
       "    </tr>\n",
       "    <tr>\n",
       "      <th>2024-09-30 00:00:00+00:00</th>\n",
       "      <td>232.743942</td>\n",
       "      <td>319.653748</td>\n",
       "      <td>270.493195</td>\n",
       "      <td>152.039993</td>\n",
       "      <td>389.719788</td>\n",
       "      <td>273.709991</td>\n",
       "      <td>52.816360</td>\n",
       "      <td>145.782898</td>\n",
       "      <td>96.190002</td>\n",
       "      <td>54.630001</td>\n",
       "      <td>...</td>\n",
       "      <td>113.559998</td>\n",
       "      <td>429.440399</td>\n",
       "      <td>88.400002</td>\n",
       "      <td>172.187622</td>\n",
       "      <td>234.119995</td>\n",
       "      <td>584.679993</td>\n",
       "      <td>274.428284</td>\n",
       "      <td>44.219704</td>\n",
       "      <td>8.695849</td>\n",
       "      <td>80.750000</td>\n",
       "    </tr>\n",
       "  </tbody>\n",
       "</table>\n",
       "<p>689 rows × 30 columns</p>\n",
       "</div>"
      ],
      "text/plain": [
       "Ticker                           AAPL        AMGN         AXP          BA  \\\n",
       "Date                                                                        \n",
       "2022-01-03 00:00:00+00:00  179.076599  206.158524  161.699936  207.860001   \n",
       "2022-01-04 00:00:00+00:00  176.803818  207.204361  166.890915  213.630005   \n",
       "2022-01-05 00:00:00+00:00  172.100861  204.748901  165.112473  213.070007   \n",
       "2022-01-06 00:00:00+00:00  169.227951  204.776199  166.625549  211.339996   \n",
       "2022-01-07 00:00:00+00:00  169.395203  206.704178  168.051819  215.500000   \n",
       "...                               ...         ...         ...         ...   \n",
       "2024-09-24 00:00:00+00:00  227.120117  328.294678  265.516205  155.809998   \n",
       "2024-09-25 00:00:00+00:00  226.121216  310.377930  265.476318  152.220001   \n",
       "2024-09-26 00:00:00+00:00  227.269958  316.568451  267.451141  154.580002   \n",
       "2024-09-27 00:00:00+00:00  227.539658  320.110138  270.353546  156.320007   \n",
       "2024-09-30 00:00:00+00:00  232.743942  319.653748  270.493195  152.039993   \n",
       "\n",
       "Ticker                            CAT         CRM       CSCO         CVX  \\\n",
       "Date                                                                       \n",
       "2022-01-03 00:00:00+00:00  195.060089  254.330933  57.543476  106.186859   \n",
       "2022-01-04 00:00:00+00:00  205.500992  247.132889  56.132153  108.118965   \n",
       "2022-01-05 00:00:00+00:00  207.074707  226.663773  55.243206  108.822372   \n",
       "2022-01-06 00:00:00+00:00  209.185455  228.137222  55.829731  109.748360   \n",
       "2022-01-07 00:00:00+00:00  211.258575  227.300919  56.022179  111.324333   \n",
       "...                               ...         ...        ...         ...   \n",
       "2024-09-24 00:00:00+00:00  384.548370  270.440002  52.121670  145.961075   \n",
       "2024-09-25 00:00:00+00:00  376.895874  274.089996  52.250683  142.516205   \n",
       "2024-09-26 00:00:00+00:00  389.560364  275.760010  52.449162  140.556213   \n",
       "2024-09-27 00:00:00+00:00  389.679932  276.640015  52.617874  144.020874   \n",
       "2024-09-30 00:00:00+00:00  389.719788  273.709991  52.816360  145.782898   \n",
       "\n",
       "Ticker                            DIS        DOW  ...         MRK        MSFT  \\\n",
       "Date                                              ...                           \n",
       "2022-01-03 00:00:00+00:00  155.533218  49.439911  ...   71.088356  326.287750   \n",
       "2022-01-04 00:00:00+00:00  154.511276  50.778717  ...   71.217842  320.692810   \n",
       "2022-01-05 00:00:00+00:00  153.975510  50.726555  ...   72.947189  308.382141   \n",
       "2022-01-06 00:00:00+00:00  155.672119  50.630924  ...   72.900940  305.945282   \n",
       "2022-01-07 00:00:00+00:00  156.594849  51.378563  ...   74.260399  306.101288   \n",
       "...                               ...        ...  ...         ...         ...   \n",
       "2024-09-24 00:00:00+00:00   93.690002  53.450001  ...  114.959999  428.312683   \n",
       "2024-09-25 00:00:00+00:00   93.919998  52.840000  ...  114.730003  431.246796   \n",
       "2024-09-26 00:00:00+00:00   95.199997  54.720001  ...  113.089996  430.448395   \n",
       "2024-09-27 00:00:00+00:00   96.010002  55.080002  ...  113.690002  427.164948   \n",
       "2024-09-30 00:00:00+00:00   96.190002  54.630001  ...  113.559998  429.440399   \n",
       "\n",
       "Ticker                            NKE          PG         TRV         UNH  \\\n",
       "Date                                                                        \n",
       "2022-01-03 00:00:00+00:00  158.935196  151.253021  147.017151  482.886658   \n",
       "2022-01-04 00:00:00+00:00  160.595291  151.782272  150.084946  471.946075   \n",
       "2022-01-05 00:00:00+00:00  156.599472  152.469391  150.811768  470.782806   \n",
       "2022-01-06 00:00:00+00:00  155.431549  151.188049  153.228226  451.516479   \n",
       "2022-01-07 00:00:00+00:00  151.503326  151.104462  156.918976  440.893188   \n",
       "...                               ...         ...         ...         ...   \n",
       "2024-09-24 00:00:00+00:00   87.459999  172.227402  237.979996  575.190002   \n",
       "2024-09-25 00:00:00+00:00   88.000000  171.253113  236.320007  576.309998   \n",
       "2024-09-26 00:00:00+00:00   89.389999  172.197571  236.050003  574.809998   \n",
       "2024-09-27 00:00:00+00:00   89.440002  172.535583  236.110001  581.849976   \n",
       "2024-09-30 00:00:00+00:00   88.400002  172.187622  234.119995  584.679993   \n",
       "\n",
       "Ticker                              V         VZ        WBA        WMT  \n",
       "Date                                                                    \n",
       "2022-01-03 00:00:00+00:00  216.382172  43.423008  43.733074  46.305843  \n",
       "2022-01-04 00:00:00+00:00  217.388702  44.275898  44.079243  45.457520  \n",
       "2022-01-05 00:00:00+00:00  214.984772  44.731323  44.507839  46.072159  \n",
       "2022-01-06 00:00:00+00:00  214.740479  44.516029  43.222057  45.944107  \n",
       "2022-01-07 00:00:00+00:00  212.014084  45.454624  44.375969  46.382675  \n",
       "...                               ...        ...        ...        ...  \n",
       "2024-09-24 00:00:00+00:00  272.262390  43.973545   8.278526  80.669998  \n",
       "2024-09-25 00:00:00+00:00  269.118347  43.865234   8.006781  81.400002  \n",
       "2024-09-26 00:00:00+00:00  271.174438  43.934158   8.268822  79.919998  \n",
       "2024-09-27 00:00:00+00:00  274.647858  44.200008   8.792902  79.779999  \n",
       "2024-09-30 00:00:00+00:00  274.428284  44.219704   8.695849  80.750000  \n",
       "\n",
       "[689 rows x 30 columns]"
      ]
     },
     "execution_count": 3,
     "metadata": {},
     "output_type": "execute_result"
    }
   ],
   "source": [
    "close_data = data['Adj Close']\n",
    "close_data"
   ]
  },
  {
   "cell_type": "code",
   "execution_count": 4,
   "id": "bc138388",
   "metadata": {},
   "outputs": [],
   "source": [
    "returns = close_data.pct_change()\n",
    "monthly_returns = returns.resample('M').apply(lambda x: (x + 1).prod() - 1)"
   ]
  },
  {
   "cell_type": "code",
   "execution_count": 5,
   "id": "09464921",
   "metadata": {},
   "outputs": [
    {
     "data": {
      "text/plain": [
       "2000-01-01 00:00:00    0\n",
       "2000-01-01 00:01:00    1\n",
       "2000-01-01 00:02:00    2\n",
       "2000-01-01 00:03:00    3\n",
       "2000-01-01 00:04:00    4\n",
       "2000-01-01 00:05:00    5\n",
       "2000-01-01 00:06:00    6\n",
       "2000-01-01 00:07:00    7\n",
       "2000-01-01 00:08:00    8\n",
       "Freq: T, dtype: int64"
      ]
     },
     "execution_count": 5,
     "metadata": {},
     "output_type": "execute_result"
    }
   ],
   "source": [
    "index = pd.date_range('1/1/2000', periods=9, freq='T')\n",
    "series = pd.Series(range(9),index=index)\n",
    "series"
   ]
  },
  {
   "cell_type": "code",
   "execution_count": 6,
   "id": "14f8f578",
   "metadata": {},
   "outputs": [
    {
     "data": {
      "text/plain": [
       "2000-01-01 00:00:00     3\n",
       "2000-01-01 00:03:00    12\n",
       "2000-01-01 00:06:00    21\n",
       "Freq: 3T, dtype: int64"
      ]
     },
     "execution_count": 6,
     "metadata": {},
     "output_type": "execute_result"
    }
   ],
   "source": [
    "series.resample('3T').sum()"
   ]
  },
  {
   "cell_type": "code",
   "execution_count": 7,
   "id": "bd7b11b3",
   "metadata": {},
   "outputs": [],
   "source": [
    "# rolling window for the last 6 month return\n",
    "past_ret = (monthly_returns+1).rolling(6).apply(np.prod)-1 "
   ]
  },
  {
   "cell_type": "code",
   "execution_count": 8,
   "id": "8d04344f",
   "metadata": {},
   "outputs": [],
   "source": [
    "past_ret.index = past_ret.index.tz_localize(None)  # Remove timezone information"
   ]
  },
  {
   "cell_type": "code",
   "execution_count": 9,
   "id": "36c72a47",
   "metadata": {},
   "outputs": [
    {
     "data": {
      "text/html": [
       "<div>\n",
       "<style scoped>\n",
       "    .dataframe tbody tr th:only-of-type {\n",
       "        vertical-align: middle;\n",
       "    }\n",
       "\n",
       "    .dataframe tbody tr th {\n",
       "        vertical-align: top;\n",
       "    }\n",
       "\n",
       "    .dataframe thead th {\n",
       "        text-align: right;\n",
       "    }\n",
       "</style>\n",
       "<table border=\"1\" class=\"dataframe\">\n",
       "  <thead>\n",
       "    <tr style=\"text-align: right;\">\n",
       "      <th></th>\n",
       "      <th>Ticker</th>\n",
       "      <th>2024-06-30 00:00:00</th>\n",
       "    </tr>\n",
       "  </thead>\n",
       "  <tbody>\n",
       "    <tr>\n",
       "      <th>0</th>\n",
       "      <td>AAPL</td>\n",
       "      <td>0.096841</td>\n",
       "    </tr>\n",
       "    <tr>\n",
       "      <th>1</th>\n",
       "      <td>AMGN</td>\n",
       "      <td>0.101066</td>\n",
       "    </tr>\n",
       "    <tr>\n",
       "      <th>2</th>\n",
       "      <td>AXP</td>\n",
       "      <td>0.243823</td>\n",
       "    </tr>\n",
       "    <tr>\n",
       "      <th>3</th>\n",
       "      <td>BA</td>\n",
       "      <td>-0.301734</td>\n",
       "    </tr>\n",
       "    <tr>\n",
       "      <th>4</th>\n",
       "      <td>CAT</td>\n",
       "      <td>0.135939</td>\n",
       "    </tr>\n",
       "  </tbody>\n",
       "</table>\n",
       "</div>"
      ],
      "text/plain": [
       "  Ticker  2024-06-30 00:00:00\n",
       "0   AAPL             0.096841\n",
       "1   AMGN             0.101066\n",
       "2    AXP             0.243823\n",
       "3     BA            -0.301734\n",
       "4    CAT             0.135939"
      ]
     },
     "execution_count": 9,
     "metadata": {},
     "output_type": "execute_result"
    }
   ],
   "source": [
    "# computing the measurement and formation window\n",
    "measurement_per = dt.datetime(2024,6,30) # all the historial data till this date\n",
    "formation_period = dt.datetime(2024,7,31) # current month, decision month\n",
    "measurement_per_cum = past_ret.loc[measurement_per]\n",
    "measurement_per_cum = measurement_per_cum.reset_index()\n",
    "measurement_per_cum.head()"
   ]
  },
  {
   "cell_type": "code",
   "execution_count": 10,
   "id": "640541a8",
   "metadata": {},
   "outputs": [
    {
     "data": {
      "text/html": [
       "<div>\n",
       "<style scoped>\n",
       "    .dataframe tbody tr th:only-of-type {\n",
       "        vertical-align: middle;\n",
       "    }\n",
       "\n",
       "    .dataframe tbody tr th {\n",
       "        vertical-align: top;\n",
       "    }\n",
       "\n",
       "    .dataframe thead th {\n",
       "        text-align: right;\n",
       "    }\n",
       "</style>\n",
       "<table border=\"1\" class=\"dataframe\">\n",
       "  <thead>\n",
       "    <tr style=\"text-align: right;\">\n",
       "      <th></th>\n",
       "      <th>Ticker</th>\n",
       "      <th>2024-06-30 00:00:00</th>\n",
       "      <th>rank</th>\n",
       "    </tr>\n",
       "  </thead>\n",
       "  <tbody>\n",
       "    <tr>\n",
       "      <th>0</th>\n",
       "      <td>AAPL</td>\n",
       "      <td>0.096841</td>\n",
       "      <td>2</td>\n",
       "    </tr>\n",
       "    <tr>\n",
       "      <th>1</th>\n",
       "      <td>AMGN</td>\n",
       "      <td>0.101066</td>\n",
       "      <td>3</td>\n",
       "    </tr>\n",
       "    <tr>\n",
       "      <th>2</th>\n",
       "      <td>AXP</td>\n",
       "      <td>0.243823</td>\n",
       "      <td>4</td>\n",
       "    </tr>\n",
       "    <tr>\n",
       "      <th>3</th>\n",
       "      <td>BA</td>\n",
       "      <td>-0.301734</td>\n",
       "      <td>0</td>\n",
       "    </tr>\n",
       "    <tr>\n",
       "      <th>4</th>\n",
       "      <td>CAT</td>\n",
       "      <td>0.135939</td>\n",
       "      <td>3</td>\n",
       "    </tr>\n",
       "  </tbody>\n",
       "</table>\n",
       "</div>"
      ],
      "text/plain": [
       "  Ticker  2024-06-30 00:00:00  rank\n",
       "0   AAPL             0.096841     2\n",
       "1   AMGN             0.101066     3\n",
       "2    AXP             0.243823     4\n",
       "3     BA            -0.301734     0\n",
       "4    CAT             0.135939     3"
      ]
     },
     "execution_count": 10,
     "metadata": {},
     "output_type": "execute_result"
    }
   ],
   "source": [
    "measurement_per_cum['rank'] = pd.qcut(measurement_per_cum.iloc[:,1],5,labels=False) # ranking the stocks from highest to lowest performing group\n",
    "measurement_per_cum.head()"
   ]
  },
  {
   "cell_type": "code",
   "execution_count": 11,
   "id": "bf7edaa9",
   "metadata": {},
   "outputs": [
    {
     "data": {
      "text/plain": [
       "Ticker                      WMT\n",
       "2024-06-30 00:00:00    0.297351\n",
       "rank                          4\n",
       "Name: 29, dtype: object"
      ]
     },
     "execution_count": 11,
     "metadata": {},
     "output_type": "execute_result"
    }
   ],
   "source": [
    "measurement_per_cum.loc[measurement_per_cum.iloc[:,1].idxmax()] # find out the asstet with highest returns upqard trend"
   ]
  },
  {
   "cell_type": "code",
   "execution_count": 12,
   "id": "54e7e39b",
   "metadata": {},
   "outputs": [
    {
     "data": {
      "text/plain": [
       "Ticker                      WBA\n",
       "2024-06-30 00:00:00   -0.524785\n",
       "rank                          0\n",
       "Name: 28, dtype: object"
      ]
     },
     "execution_count": 12,
     "metadata": {},
     "output_type": "execute_result"
    }
   ],
   "source": [
    "measurement_per_cum.loc[measurement_per_cum.iloc[:,1].idxmin()] # similarly lowest returns for downward trend"
   ]
  },
  {
   "cell_type": "code",
   "execution_count": 13,
   "id": "c40f4e3c",
   "metadata": {},
   "outputs": [
    {
     "data": {
      "text/plain": [
       "2000-01-01 00:00:00    0\n",
       "2000-01-01 00:01:00    0\n",
       "2000-01-01 00:02:00    1\n",
       "2000-01-01 00:03:00    1\n",
       "2000-01-01 00:04:00    2\n",
       "2000-01-01 00:05:00    3\n",
       "2000-01-01 00:06:00    3\n",
       "2000-01-01 00:07:00    4\n",
       "2000-01-01 00:08:00    4\n",
       "Freq: T, dtype: int64"
      ]
     },
     "execution_count": 13,
     "metadata": {},
     "output_type": "execute_result"
    }
   ],
   "source": [
    "pd.qcut(series, 5, labels=False)   "
   ]
  },
  {
   "cell_type": "code",
   "execution_count": 14,
   "id": "7e190737",
   "metadata": {},
   "outputs": [
    {
     "data": {
      "text/html": [
       "<div>\n",
       "<style scoped>\n",
       "    .dataframe tbody tr th:only-of-type {\n",
       "        vertical-align: middle;\n",
       "    }\n",
       "\n",
       "    .dataframe tbody tr th {\n",
       "        vertical-align: top;\n",
       "    }\n",
       "\n",
       "    .dataframe thead th {\n",
       "        text-align: right;\n",
       "    }\n",
       "</style>\n",
       "<table border=\"1\" class=\"dataframe\">\n",
       "  <thead>\n",
       "    <tr style=\"text-align: right;\">\n",
       "      <th></th>\n",
       "      <th>Ticker</th>\n",
       "      <th>2024-06-30 00:00:00</th>\n",
       "      <th>rank</th>\n",
       "    </tr>\n",
       "  </thead>\n",
       "  <tbody>\n",
       "    <tr>\n",
       "      <th>0</th>\n",
       "      <td>AAPL</td>\n",
       "      <td>0.096841</td>\n",
       "      <td>2</td>\n",
       "    </tr>\n",
       "    <tr>\n",
       "      <th>1</th>\n",
       "      <td>AMGN</td>\n",
       "      <td>0.101066</td>\n",
       "      <td>3</td>\n",
       "    </tr>\n",
       "    <tr>\n",
       "      <th>2</th>\n",
       "      <td>AXP</td>\n",
       "      <td>0.243823</td>\n",
       "      <td>4</td>\n",
       "    </tr>\n",
       "    <tr>\n",
       "      <th>3</th>\n",
       "      <td>BA</td>\n",
       "      <td>-0.301734</td>\n",
       "      <td>0</td>\n",
       "    </tr>\n",
       "    <tr>\n",
       "      <th>4</th>\n",
       "      <td>CAT</td>\n",
       "      <td>0.135939</td>\n",
       "      <td>3</td>\n",
       "    </tr>\n",
       "  </tbody>\n",
       "</table>\n",
       "</div>"
      ],
      "text/plain": [
       "  Ticker  2024-06-30 00:00:00  rank\n",
       "0   AAPL             0.096841     2\n",
       "1   AMGN             0.101066     3\n",
       "2    AXP             0.243823     4\n",
       "3     BA            -0.301734     0\n",
       "4    CAT             0.135939     3"
      ]
     },
     "execution_count": 14,
     "metadata": {},
     "output_type": "execute_result"
    }
   ],
   "source": [
    "measurement_per_cum['rank'] = pd.qcut(measurement_per_cum.iloc[:,1],5,labels=False) # ranking the stocks from highest to lowest performing group\n",
    "measurement_per_cum.head()"
   ]
  },
  {
   "cell_type": "code",
   "execution_count": 15,
   "id": "5c2e7927",
   "metadata": {},
   "outputs": [
    {
     "data": {
      "text/plain": [
       "array(['AXP', 'GS', 'JPM', 'MRK', 'MSFT', 'WMT'], dtype=object)"
      ]
     },
     "execution_count": 15,
     "metadata": {},
     "output_type": "execute_result"
    }
   ],
   "source": [
    "long = measurement_per_cum.loc[measurement_per_cum['rank']==4,'Ticker'].values\n",
    "long  # stocks to long"
   ]
  },
  {
   "cell_type": "code",
   "execution_count": 16,
   "id": "3c6ec3ba",
   "metadata": {},
   "outputs": [
    {
     "data": {
      "text/plain": [
       "array(['BA', 'INTC', 'JNJ', 'MCD', 'NKE', 'WBA'], dtype=object)"
      ]
     },
     "execution_count": 16,
     "metadata": {},
     "output_type": "execute_result"
    }
   ],
   "source": [
    "short = measurement_per_cum.loc[measurement_per_cum['rank']==0,'Ticker'].values\n",
    "short # stocks to short"
   ]
  },
  {
   "cell_type": "code",
   "execution_count": null,
   "id": "f2cd58ee",
   "metadata": {},
   "outputs": [
    {
     "ename": "KeyError",
     "evalue": "datetime.datetime(2024, 8, 31, 0, 0)",
     "output_type": "error",
     "traceback": [
      "\u001b[0;31m---------------------------------------------------------------------------\u001b[0m",
      "\u001b[0;31mTypeError\u001b[0m                                 Traceback (most recent call last)",
      "File \u001b[0;32m~/anaconda3/lib/python3.11/site-packages/pandas/core/indexes/datetimes.py:532\u001b[0m, in \u001b[0;36mDatetimeIndex._disallow_mismatched_indexing\u001b[0;34m(self, key)\u001b[0m\n\u001b[1;32m    530\u001b[0m \u001b[38;5;28;01mtry\u001b[39;00m:\n\u001b[1;32m    531\u001b[0m     \u001b[38;5;66;03m# GH#36148\u001b[39;00m\n\u001b[0;32m--> 532\u001b[0m     \u001b[38;5;28mself\u001b[39m\u001b[38;5;241m.\u001b[39m_data\u001b[38;5;241m.\u001b[39m_assert_tzawareness_compat(key)\n\u001b[1;32m    533\u001b[0m \u001b[38;5;28;01mexcept\u001b[39;00m \u001b[38;5;167;01mTypeError\u001b[39;00m \u001b[38;5;28;01mas\u001b[39;00m err:\n",
      "File \u001b[0;32m~/anaconda3/lib/python3.11/site-packages/pandas/core/arrays/datetimes.py:748\u001b[0m, in \u001b[0;36mDatetimeArray._assert_tzawareness_compat\u001b[0;34m(self, other)\u001b[0m\n\u001b[1;32m    747\u001b[0m \u001b[38;5;28;01melif\u001b[39;00m other_tz \u001b[38;5;129;01mis\u001b[39;00m \u001b[38;5;28;01mNone\u001b[39;00m:\n\u001b[0;32m--> 748\u001b[0m     \u001b[38;5;28;01mraise\u001b[39;00m \u001b[38;5;167;01mTypeError\u001b[39;00m(\n\u001b[1;32m    749\u001b[0m         \u001b[38;5;124m\"\u001b[39m\u001b[38;5;124mCannot compare tz-naive and tz-aware datetime-like objects\u001b[39m\u001b[38;5;124m\"\u001b[39m\n\u001b[1;32m    750\u001b[0m     )\n",
      "\u001b[0;31mTypeError\u001b[0m: Cannot compare tz-naive and tz-aware datetime-like objects",
      "\nThe above exception was the direct cause of the following exception:\n",
      "\u001b[0;31mKeyError\u001b[0m                                  Traceback (most recent call last)",
      "Cell \u001b[0;32mIn[17], line 4\u001b[0m\n\u001b[1;32m      1\u001b[0m \u001b[38;5;66;03m# Strategy performance - \u001b[39;00m\n\u001b[1;32m      2\u001b[0m \u001b[38;5;28;01mfrom\u001b[39;00m \u001b[38;5;21;01mdateutil\u001b[39;00m\u001b[38;5;21;01m.\u001b[39;00m\u001b[38;5;21;01mrelativedelta\u001b[39;00m \u001b[38;5;28;01mimport\u001b[39;00m relativedelta\n\u001b[0;32m----> 4\u001b[0m long_ret \u001b[38;5;241m=\u001b[39m monthly_returns\u001b[38;5;241m.\u001b[39mloc[formation_period \u001b[38;5;241m+\u001b[39m relativedelta(months\u001b[38;5;241m=\u001b[39m\u001b[38;5;241m1\u001b[39m),monthly_returns\u001b[38;5;241m.\u001b[39mcolumns\u001b[38;5;241m.\u001b[39misin(long)] \u001b[38;5;66;03m# assessment period\u001b[39;00m\n\u001b[1;32m      5\u001b[0m long_ret\n",
      "File \u001b[0;32m~/anaconda3/lib/python3.11/site-packages/pandas/core/indexing.py:1097\u001b[0m, in \u001b[0;36m_LocationIndexer.__getitem__\u001b[0;34m(self, key)\u001b[0m\n\u001b[1;32m   1095\u001b[0m     \u001b[38;5;28;01mif\u001b[39;00m \u001b[38;5;28mself\u001b[39m\u001b[38;5;241m.\u001b[39m_is_scalar_access(key):\n\u001b[1;32m   1096\u001b[0m         \u001b[38;5;28;01mreturn\u001b[39;00m \u001b[38;5;28mself\u001b[39m\u001b[38;5;241m.\u001b[39mobj\u001b[38;5;241m.\u001b[39m_get_value(\u001b[38;5;241m*\u001b[39mkey, takeable\u001b[38;5;241m=\u001b[39m\u001b[38;5;28mself\u001b[39m\u001b[38;5;241m.\u001b[39m_takeable)\n\u001b[0;32m-> 1097\u001b[0m     \u001b[38;5;28;01mreturn\u001b[39;00m \u001b[38;5;28mself\u001b[39m\u001b[38;5;241m.\u001b[39m_getitem_tuple(key)\n\u001b[1;32m   1098\u001b[0m \u001b[38;5;28;01melse\u001b[39;00m:\n\u001b[1;32m   1099\u001b[0m     \u001b[38;5;66;03m# we by definition only have the 0th axis\u001b[39;00m\n\u001b[1;32m   1100\u001b[0m     axis \u001b[38;5;241m=\u001b[39m \u001b[38;5;28mself\u001b[39m\u001b[38;5;241m.\u001b[39maxis \u001b[38;5;129;01mor\u001b[39;00m \u001b[38;5;241m0\u001b[39m\n",
      "File \u001b[0;32m~/anaconda3/lib/python3.11/site-packages/pandas/core/indexing.py:1280\u001b[0m, in \u001b[0;36m_LocIndexer._getitem_tuple\u001b[0;34m(self, tup)\u001b[0m\n\u001b[1;32m   1278\u001b[0m \u001b[38;5;28;01mwith\u001b[39;00m suppress(IndexingError):\n\u001b[1;32m   1279\u001b[0m     tup \u001b[38;5;241m=\u001b[39m \u001b[38;5;28mself\u001b[39m\u001b[38;5;241m.\u001b[39m_expand_ellipsis(tup)\n\u001b[0;32m-> 1280\u001b[0m     \u001b[38;5;28;01mreturn\u001b[39;00m \u001b[38;5;28mself\u001b[39m\u001b[38;5;241m.\u001b[39m_getitem_lowerdim(tup)\n\u001b[1;32m   1282\u001b[0m \u001b[38;5;66;03m# no multi-index, so validate all of the indexers\u001b[39;00m\n\u001b[1;32m   1283\u001b[0m tup \u001b[38;5;241m=\u001b[39m \u001b[38;5;28mself\u001b[39m\u001b[38;5;241m.\u001b[39m_validate_tuple_indexer(tup)\n",
      "File \u001b[0;32m~/anaconda3/lib/python3.11/site-packages/pandas/core/indexing.py:1000\u001b[0m, in \u001b[0;36m_LocationIndexer._getitem_lowerdim\u001b[0;34m(self, tup)\u001b[0m\n\u001b[1;32m    996\u001b[0m \u001b[38;5;28;01mfor\u001b[39;00m i, key \u001b[38;5;129;01min\u001b[39;00m \u001b[38;5;28menumerate\u001b[39m(tup):\n\u001b[1;32m    997\u001b[0m     \u001b[38;5;28;01mif\u001b[39;00m is_label_like(key):\n\u001b[1;32m    998\u001b[0m         \u001b[38;5;66;03m# We don't need to check for tuples here because those are\u001b[39;00m\n\u001b[1;32m    999\u001b[0m         \u001b[38;5;66;03m#  caught by the _is_nested_tuple_indexer check above.\u001b[39;00m\n\u001b[0;32m-> 1000\u001b[0m         section \u001b[38;5;241m=\u001b[39m \u001b[38;5;28mself\u001b[39m\u001b[38;5;241m.\u001b[39m_getitem_axis(key, axis\u001b[38;5;241m=\u001b[39mi)\n\u001b[1;32m   1002\u001b[0m         \u001b[38;5;66;03m# We should never have a scalar section here, because\u001b[39;00m\n\u001b[1;32m   1003\u001b[0m         \u001b[38;5;66;03m#  _getitem_lowerdim is only called after a check for\u001b[39;00m\n\u001b[1;32m   1004\u001b[0m         \u001b[38;5;66;03m#  is_scalar_access, which that would be.\u001b[39;00m\n\u001b[1;32m   1005\u001b[0m         \u001b[38;5;28;01mif\u001b[39;00m section\u001b[38;5;241m.\u001b[39mndim \u001b[38;5;241m==\u001b[39m \u001b[38;5;28mself\u001b[39m\u001b[38;5;241m.\u001b[39mndim:\n\u001b[1;32m   1006\u001b[0m             \u001b[38;5;66;03m# we're in the middle of slicing through a MultiIndex\u001b[39;00m\n\u001b[1;32m   1007\u001b[0m             \u001b[38;5;66;03m# revise the key wrt to `section` by inserting an _NS\u001b[39;00m\n",
      "File \u001b[0;32m~/anaconda3/lib/python3.11/site-packages/pandas/core/indexing.py:1343\u001b[0m, in \u001b[0;36m_LocIndexer._getitem_axis\u001b[0;34m(self, key, axis)\u001b[0m\n\u001b[1;32m   1341\u001b[0m \u001b[38;5;66;03m# fall thru to straight lookup\u001b[39;00m\n\u001b[1;32m   1342\u001b[0m \u001b[38;5;28mself\u001b[39m\u001b[38;5;241m.\u001b[39m_validate_key(key, axis)\n\u001b[0;32m-> 1343\u001b[0m \u001b[38;5;28;01mreturn\u001b[39;00m \u001b[38;5;28mself\u001b[39m\u001b[38;5;241m.\u001b[39m_get_label(key, axis\u001b[38;5;241m=\u001b[39maxis)\n",
      "File \u001b[0;32m~/anaconda3/lib/python3.11/site-packages/pandas/core/indexing.py:1293\u001b[0m, in \u001b[0;36m_LocIndexer._get_label\u001b[0;34m(self, label, axis)\u001b[0m\n\u001b[1;32m   1291\u001b[0m \u001b[38;5;28;01mdef\u001b[39;00m \u001b[38;5;21m_get_label\u001b[39m(\u001b[38;5;28mself\u001b[39m, label, axis: AxisInt):\n\u001b[1;32m   1292\u001b[0m     \u001b[38;5;66;03m# GH#5567 this will fail if the label is not present in the axis.\u001b[39;00m\n\u001b[0;32m-> 1293\u001b[0m     \u001b[38;5;28;01mreturn\u001b[39;00m \u001b[38;5;28mself\u001b[39m\u001b[38;5;241m.\u001b[39mobj\u001b[38;5;241m.\u001b[39mxs(label, axis\u001b[38;5;241m=\u001b[39maxis)\n",
      "File \u001b[0;32m~/anaconda3/lib/python3.11/site-packages/pandas/core/generic.py:4095\u001b[0m, in \u001b[0;36mNDFrame.xs\u001b[0;34m(self, key, axis, level, drop_level)\u001b[0m\n\u001b[1;32m   4093\u001b[0m             new_index \u001b[38;5;241m=\u001b[39m index[loc]\n\u001b[1;32m   4094\u001b[0m \u001b[38;5;28;01melse\u001b[39;00m:\n\u001b[0;32m-> 4095\u001b[0m     loc \u001b[38;5;241m=\u001b[39m index\u001b[38;5;241m.\u001b[39mget_loc(key)\n\u001b[1;32m   4097\u001b[0m     \u001b[38;5;28;01mif\u001b[39;00m \u001b[38;5;28misinstance\u001b[39m(loc, np\u001b[38;5;241m.\u001b[39mndarray):\n\u001b[1;32m   4098\u001b[0m         \u001b[38;5;28;01mif\u001b[39;00m loc\u001b[38;5;241m.\u001b[39mdtype \u001b[38;5;241m==\u001b[39m np\u001b[38;5;241m.\u001b[39mbool_:\n",
      "File \u001b[0;32m~/anaconda3/lib/python3.11/site-packages/pandas/core/indexes/datetimes.py:552\u001b[0m, in \u001b[0;36mDatetimeIndex.get_loc\u001b[0;34m(self, key)\u001b[0m\n\u001b[1;32m    548\u001b[0m     key \u001b[38;5;241m=\u001b[39m NaT\n\u001b[1;32m    550\u001b[0m \u001b[38;5;28;01mif\u001b[39;00m \u001b[38;5;28misinstance\u001b[39m(key, \u001b[38;5;28mself\u001b[39m\u001b[38;5;241m.\u001b[39m_data\u001b[38;5;241m.\u001b[39m_recognized_scalars):\n\u001b[1;32m    551\u001b[0m     \u001b[38;5;66;03m# needed to localize naive datetimes\u001b[39;00m\n\u001b[0;32m--> 552\u001b[0m     \u001b[38;5;28mself\u001b[39m\u001b[38;5;241m.\u001b[39m_disallow_mismatched_indexing(key)\n\u001b[1;32m    553\u001b[0m     key \u001b[38;5;241m=\u001b[39m Timestamp(key)\n\u001b[1;32m    555\u001b[0m \u001b[38;5;28;01melif\u001b[39;00m \u001b[38;5;28misinstance\u001b[39m(key, \u001b[38;5;28mstr\u001b[39m):\n",
      "File \u001b[0;32m~/anaconda3/lib/python3.11/site-packages/pandas/core/indexes/datetimes.py:534\u001b[0m, in \u001b[0;36mDatetimeIndex._disallow_mismatched_indexing\u001b[0;34m(self, key)\u001b[0m\n\u001b[1;32m    532\u001b[0m     \u001b[38;5;28mself\u001b[39m\u001b[38;5;241m.\u001b[39m_data\u001b[38;5;241m.\u001b[39m_assert_tzawareness_compat(key)\n\u001b[1;32m    533\u001b[0m \u001b[38;5;28;01mexcept\u001b[39;00m \u001b[38;5;167;01mTypeError\u001b[39;00m \u001b[38;5;28;01mas\u001b[39;00m err:\n\u001b[0;32m--> 534\u001b[0m     \u001b[38;5;28;01mraise\u001b[39;00m \u001b[38;5;167;01mKeyError\u001b[39;00m(key) \u001b[38;5;28;01mfrom\u001b[39;00m \u001b[38;5;21;01merr\u001b[39;00m\n",
      "\u001b[0;31mKeyError\u001b[0m: datetime.datetime(2024, 8, 31, 0, 0)"
     ]
    }
   ],
   "source": [
    "# Strategy performance\n",
    "long_ret = monthly_returns.loc[formation_period + relativedelta(months=1),monthly_returns.columns.isin(long)] # assessment period\n",
    "long_ret"
   ]
  },
  {
   "cell_type": "code",
   "execution_count": null,
   "id": "c4c157f2",
   "metadata": {},
   "outputs": [
    {
     "data": {
      "text/plain": [
       "Ticker\n",
       "BA     -0.088458\n",
       "INTC   -0.278471\n",
       "JNJ     0.058720\n",
       "MCD     0.087641\n",
       "NKE     0.113011\n",
       "WBA    -0.202135\n",
       "Name: 2024-08-31 00:00:00, dtype: float64"
      ]
     },
     "execution_count": 178,
     "metadata": {},
     "output_type": "execute_result"
    }
   ],
   "source": [
    "short_ret = monthly_returns.loc[formation_period + relativedelta(months=1),monthly_returns.columns.isin(short)]\n",
    "short_ret"
   ]
  },
  {
   "cell_type": "code",
   "execution_count": null,
   "id": "3bfaa0e4",
   "metadata": {},
   "outputs": [
    {
     "data": {
      "text/plain": [
       "0.09514378649752596"
      ]
     },
     "execution_count": 179,
     "metadata": {},
     "output_type": "execute_result"
    }
   ],
   "source": [
    "profit = long_ret.mean() - short_ret.mean()\n",
    "profit"
   ]
  },
  {
   "cell_type": "code",
   "execution_count": null,
   "id": "e9291e42",
   "metadata": {},
   "outputs": [
    {
     "name": "stderr",
     "output_type": "stream",
     "text": [
      "[*********************100%%**********************]  1 of 1 completed\n"
     ]
    },
    {
     "data": {
      "text/html": [
       "<div>\n",
       "<style scoped>\n",
       "    .dataframe tbody tr th:only-of-type {\n",
       "        vertical-align: middle;\n",
       "    }\n",
       "\n",
       "    .dataframe tbody tr th {\n",
       "        vertical-align: top;\n",
       "    }\n",
       "\n",
       "    .dataframe thead th {\n",
       "        text-align: right;\n",
       "    }\n",
       "</style>\n",
       "<table border=\"1\" class=\"dataframe\">\n",
       "  <thead>\n",
       "    <tr style=\"text-align: right;\">\n",
       "      <th></th>\n",
       "      <th>Open</th>\n",
       "      <th>High</th>\n",
       "      <th>Low</th>\n",
       "      <th>Close</th>\n",
       "      <th>Adj Close</th>\n",
       "      <th>Volume</th>\n",
       "    </tr>\n",
       "    <tr>\n",
       "      <th>Date</th>\n",
       "      <th></th>\n",
       "      <th></th>\n",
       "      <th></th>\n",
       "      <th></th>\n",
       "      <th></th>\n",
       "      <th></th>\n",
       "    </tr>\n",
       "  </thead>\n",
       "  <tbody>\n",
       "    <tr>\n",
       "      <th>2022-01-03</th>\n",
       "      <td>36321.589844</td>\n",
       "      <td>36595.820312</td>\n",
       "      <td>36246.449219</td>\n",
       "      <td>36585.058594</td>\n",
       "      <td>36585.058594</td>\n",
       "      <td>347930000</td>\n",
       "    </tr>\n",
       "    <tr>\n",
       "      <th>2022-01-04</th>\n",
       "      <td>36636.000000</td>\n",
       "      <td>36934.839844</td>\n",
       "      <td>36636.000000</td>\n",
       "      <td>36799.648438</td>\n",
       "      <td>36799.648438</td>\n",
       "      <td>435080000</td>\n",
       "    </tr>\n",
       "    <tr>\n",
       "      <th>2022-01-05</th>\n",
       "      <td>36722.601562</td>\n",
       "      <td>36952.648438</td>\n",
       "      <td>36400.390625</td>\n",
       "      <td>36407.109375</td>\n",
       "      <td>36407.109375</td>\n",
       "      <td>462040000</td>\n",
       "    </tr>\n",
       "    <tr>\n",
       "      <th>2022-01-06</th>\n",
       "      <td>36409.050781</td>\n",
       "      <td>36464.191406</td>\n",
       "      <td>36200.679688</td>\n",
       "      <td>36236.468750</td>\n",
       "      <td>36236.468750</td>\n",
       "      <td>385890000</td>\n",
       "    </tr>\n",
       "    <tr>\n",
       "      <th>2022-01-07</th>\n",
       "      <td>36249.589844</td>\n",
       "      <td>36382.839844</td>\n",
       "      <td>36111.531250</td>\n",
       "      <td>36231.660156</td>\n",
       "      <td>36231.660156</td>\n",
       "      <td>356110000</td>\n",
       "    </tr>\n",
       "  </tbody>\n",
       "</table>\n",
       "</div>"
      ],
      "text/plain": [
       "                    Open          High           Low         Close  \\\n",
       "Date                                                                 \n",
       "2022-01-03  36321.589844  36595.820312  36246.449219  36585.058594   \n",
       "2022-01-04  36636.000000  36934.839844  36636.000000  36799.648438   \n",
       "2022-01-05  36722.601562  36952.648438  36400.390625  36407.109375   \n",
       "2022-01-06  36409.050781  36464.191406  36200.679688  36236.468750   \n",
       "2022-01-07  36249.589844  36382.839844  36111.531250  36231.660156   \n",
       "\n",
       "               Adj Close     Volume  \n",
       "Date                                 \n",
       "2022-01-03  36585.058594  347930000  \n",
       "2022-01-04  36799.648438  435080000  \n",
       "2022-01-05  36407.109375  462040000  \n",
       "2022-01-06  36236.468750  385890000  \n",
       "2022-01-07  36231.660156  356110000  "
      ]
     },
     "execution_count": 180,
     "metadata": {},
     "output_type": "execute_result"
    }
   ],
   "source": [
    "df_dji = yf.download('^DJI',start=start_date,end=end_date)\n",
    "df_dji.head()"
   ]
  },
  {
   "cell_type": "code",
   "execution_count": null,
   "id": "df7cc76a",
   "metadata": {},
   "outputs": [
    {
     "data": {
      "text/plain": [
       "Date\n",
       "2022-01-31   -0.039721\n",
       "2022-02-28   -0.035274\n",
       "2022-03-31    0.023184\n",
       "2022-04-30   -0.049055\n",
       "2022-05-31    0.000391\n",
       "Freq: M, Name: Adj Close, dtype: float64"
      ]
     },
     "execution_count": 181,
     "metadata": {},
     "output_type": "execute_result"
    }
   ],
   "source": [
    "buy_n_hold = df_dji['Adj Close'].pct_change().resample('M').apply(lambda x: (x + 1).prod() - 1)\n",
    "buy_n_hold.head()\n"
   ]
  },
  {
   "cell_type": "code",
   "execution_count": null,
   "id": "2db46f2c",
   "metadata": {},
   "outputs": [
    {
     "data": {
      "text/plain": [
       "0.017635648275581284"
      ]
     },
     "execution_count": 182,
     "metadata": {},
     "output_type": "execute_result"
    }
   ],
   "source": [
    "buy_n_hold.loc[formation_period + relativedelta(months=1)] # buy and hold strategy returns"
   ]
  }
 ],
 "metadata": {
  "kernelspec": {
   "display_name": "base",
   "language": "python",
   "name": "python3"
  },
  "language_info": {
   "codemirror_mode": {
    "name": "ipython",
    "version": 3
   },
   "file_extension": ".py",
   "mimetype": "text/x-python",
   "name": "python",
   "nbconvert_exporter": "python",
   "pygments_lexer": "ipython3",
   "version": "3.11.5"
  }
 },
 "nbformat": 4,
 "nbformat_minor": 5
}
