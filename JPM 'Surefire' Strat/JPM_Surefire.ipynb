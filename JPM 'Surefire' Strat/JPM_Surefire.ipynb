{
  "nbformat": 4,
  "nbformat_minor": 0,
  "metadata": {
    "colab": {
      "name": "JPM Surefire.ipynb",
      "provenance": [],
      "collapsed_sections": []
    },
    "kernelspec": {
      "name": "python3",
      "display_name": "Python 3"
    },
    "language_info": {
      "name": "python"
    }
  },
  "cells": [
    {
      "cell_type": "markdown",
      "source": [
        "Mandatory packages to be imported"
      ],
      "metadata": {
        "id": "mvQRvC1Boq8o"
      }
    },
    {
      "cell_type": "code",
      "execution_count": null,
      "metadata": {
        "id": "gDJGWHBIniqA"
      },
      "outputs": [],
      "source": [
        "!pip install numpy\n",
        "!pip install yfinance\n",
        "!pip install pandas"
      ]
    },
    {
      "cell_type": "code",
      "source": [
        "import numpy as np\n",
        "import pandas as pd\n",
        "import yfinance as yf"
      ],
      "metadata": {
        "id": "YA40-D-nnonO"
      },
      "execution_count": 4,
      "outputs": []
    },
    {
      "cell_type": "markdown",
      "source": [
        "Take in VIX data (1990 till date)"
      ],
      "metadata": {
        "id": "QLtf6vJqo0di"
      }
    },
    {
      "cell_type": "code",
      "source": [
        "vix_df = yf.download('^VIX')"
      ],
      "metadata": {
        "colab": {
          "base_uri": "https://localhost:8080/"
        },
        "id": "vT1YizR7oGyS",
        "outputId": "a8fd412f-81b4-4c7d-94fa-eef819c77f11"
      },
      "execution_count": 10,
      "outputs": [
        {
          "output_type": "stream",
          "name": "stdout",
          "text": [
            "\r[*********************100%***********************]  1 of 1 completed\n"
          ]
        }
      ]
    },
    {
      "cell_type": "code",
      "source": [
        "vix_df"
      ],
      "metadata": {
        "colab": {
          "base_uri": "https://localhost:8080/",
          "height": 455
        },
        "id": "_RXiynN5oJ3u",
        "outputId": "205ed976-fa26-4637-fc46-6e16f1773c0a"
      },
      "execution_count": 12,
      "outputs": [
        {
          "output_type": "execute_result",
          "data": {
            "text/plain": [
              "                 Open       High        Low      Close  Adj Close  Volume\n",
              "Date                                                                     \n",
              "1990-01-02  17.240000  17.240000  17.240000  17.240000  17.240000       0\n",
              "1990-01-03  18.190001  18.190001  18.190001  18.190001  18.190001       0\n",
              "1990-01-04  19.219999  19.219999  19.219999  19.219999  19.219999       0\n",
              "1990-01-05  20.110001  20.110001  20.110001  20.110001  20.110001       0\n",
              "1990-01-08  20.260000  20.260000  20.260000  20.260000  20.260000       0\n",
              "...               ...        ...        ...        ...        ...     ...\n",
              "2022-05-23  28.980000  30.389999  28.290001  28.480000  28.480000       0\n",
              "2022-05-24  29.430000  31.070000  29.040001  29.450001  29.450001       0\n",
              "2022-05-25  29.330000  30.230000  28.160000  28.370001  28.370001       0\n",
              "2022-05-26  28.420000  28.459999  27.110001  27.500000  27.500000       0\n",
              "2022-05-27  27.500000  27.540001  25.570000  25.719999  25.719999       0\n",
              "\n",
              "[8166 rows x 6 columns]"
            ],
            "text/html": [
              "\n",
              "  <div id=\"df-7a152adc-c637-4d00-989f-2c9858a4c533\">\n",
              "    <div class=\"colab-df-container\">\n",
              "      <div>\n",
              "<style scoped>\n",
              "    .dataframe tbody tr th:only-of-type {\n",
              "        vertical-align: middle;\n",
              "    }\n",
              "\n",
              "    .dataframe tbody tr th {\n",
              "        vertical-align: top;\n",
              "    }\n",
              "\n",
              "    .dataframe thead th {\n",
              "        text-align: right;\n",
              "    }\n",
              "</style>\n",
              "<table border=\"1\" class=\"dataframe\">\n",
              "  <thead>\n",
              "    <tr style=\"text-align: right;\">\n",
              "      <th></th>\n",
              "      <th>Open</th>\n",
              "      <th>High</th>\n",
              "      <th>Low</th>\n",
              "      <th>Close</th>\n",
              "      <th>Adj Close</th>\n",
              "      <th>Volume</th>\n",
              "    </tr>\n",
              "    <tr>\n",
              "      <th>Date</th>\n",
              "      <th></th>\n",
              "      <th></th>\n",
              "      <th></th>\n",
              "      <th></th>\n",
              "      <th></th>\n",
              "      <th></th>\n",
              "    </tr>\n",
              "  </thead>\n",
              "  <tbody>\n",
              "    <tr>\n",
              "      <th>1990-01-02</th>\n",
              "      <td>17.240000</td>\n",
              "      <td>17.240000</td>\n",
              "      <td>17.240000</td>\n",
              "      <td>17.240000</td>\n",
              "      <td>17.240000</td>\n",
              "      <td>0</td>\n",
              "    </tr>\n",
              "    <tr>\n",
              "      <th>1990-01-03</th>\n",
              "      <td>18.190001</td>\n",
              "      <td>18.190001</td>\n",
              "      <td>18.190001</td>\n",
              "      <td>18.190001</td>\n",
              "      <td>18.190001</td>\n",
              "      <td>0</td>\n",
              "    </tr>\n",
              "    <tr>\n",
              "      <th>1990-01-04</th>\n",
              "      <td>19.219999</td>\n",
              "      <td>19.219999</td>\n",
              "      <td>19.219999</td>\n",
              "      <td>19.219999</td>\n",
              "      <td>19.219999</td>\n",
              "      <td>0</td>\n",
              "    </tr>\n",
              "    <tr>\n",
              "      <th>1990-01-05</th>\n",
              "      <td>20.110001</td>\n",
              "      <td>20.110001</td>\n",
              "      <td>20.110001</td>\n",
              "      <td>20.110001</td>\n",
              "      <td>20.110001</td>\n",
              "      <td>0</td>\n",
              "    </tr>\n",
              "    <tr>\n",
              "      <th>1990-01-08</th>\n",
              "      <td>20.260000</td>\n",
              "      <td>20.260000</td>\n",
              "      <td>20.260000</td>\n",
              "      <td>20.260000</td>\n",
              "      <td>20.260000</td>\n",
              "      <td>0</td>\n",
              "    </tr>\n",
              "    <tr>\n",
              "      <th>...</th>\n",
              "      <td>...</td>\n",
              "      <td>...</td>\n",
              "      <td>...</td>\n",
              "      <td>...</td>\n",
              "      <td>...</td>\n",
              "      <td>...</td>\n",
              "    </tr>\n",
              "    <tr>\n",
              "      <th>2022-05-23</th>\n",
              "      <td>28.980000</td>\n",
              "      <td>30.389999</td>\n",
              "      <td>28.290001</td>\n",
              "      <td>28.480000</td>\n",
              "      <td>28.480000</td>\n",
              "      <td>0</td>\n",
              "    </tr>\n",
              "    <tr>\n",
              "      <th>2022-05-24</th>\n",
              "      <td>29.430000</td>\n",
              "      <td>31.070000</td>\n",
              "      <td>29.040001</td>\n",
              "      <td>29.450001</td>\n",
              "      <td>29.450001</td>\n",
              "      <td>0</td>\n",
              "    </tr>\n",
              "    <tr>\n",
              "      <th>2022-05-25</th>\n",
              "      <td>29.330000</td>\n",
              "      <td>30.230000</td>\n",
              "      <td>28.160000</td>\n",
              "      <td>28.370001</td>\n",
              "      <td>28.370001</td>\n",
              "      <td>0</td>\n",
              "    </tr>\n",
              "    <tr>\n",
              "      <th>2022-05-26</th>\n",
              "      <td>28.420000</td>\n",
              "      <td>28.459999</td>\n",
              "      <td>27.110001</td>\n",
              "      <td>27.500000</td>\n",
              "      <td>27.500000</td>\n",
              "      <td>0</td>\n",
              "    </tr>\n",
              "    <tr>\n",
              "      <th>2022-05-27</th>\n",
              "      <td>27.500000</td>\n",
              "      <td>27.540001</td>\n",
              "      <td>25.570000</td>\n",
              "      <td>25.719999</td>\n",
              "      <td>25.719999</td>\n",
              "      <td>0</td>\n",
              "    </tr>\n",
              "  </tbody>\n",
              "</table>\n",
              "<p>8166 rows × 6 columns</p>\n",
              "</div>\n",
              "      <button class=\"colab-df-convert\" onclick=\"convertToInteractive('df-7a152adc-c637-4d00-989f-2c9858a4c533')\"\n",
              "              title=\"Convert this dataframe to an interactive table.\"\n",
              "              style=\"display:none;\">\n",
              "        \n",
              "  <svg xmlns=\"http://www.w3.org/2000/svg\" height=\"24px\"viewBox=\"0 0 24 24\"\n",
              "       width=\"24px\">\n",
              "    <path d=\"M0 0h24v24H0V0z\" fill=\"none\"/>\n",
              "    <path d=\"M18.56 5.44l.94 2.06.94-2.06 2.06-.94-2.06-.94-.94-2.06-.94 2.06-2.06.94zm-11 1L8.5 8.5l.94-2.06 2.06-.94-2.06-.94L8.5 2.5l-.94 2.06-2.06.94zm10 10l.94 2.06.94-2.06 2.06-.94-2.06-.94-.94-2.06-.94 2.06-2.06.94z\"/><path d=\"M17.41 7.96l-1.37-1.37c-.4-.4-.92-.59-1.43-.59-.52 0-1.04.2-1.43.59L10.3 9.45l-7.72 7.72c-.78.78-.78 2.05 0 2.83L4 21.41c.39.39.9.59 1.41.59.51 0 1.02-.2 1.41-.59l7.78-7.78 2.81-2.81c.8-.78.8-2.07 0-2.86zM5.41 20L4 18.59l7.72-7.72 1.47 1.35L5.41 20z\"/>\n",
              "  </svg>\n",
              "      </button>\n",
              "      \n",
              "  <style>\n",
              "    .colab-df-container {\n",
              "      display:flex;\n",
              "      flex-wrap:wrap;\n",
              "      gap: 12px;\n",
              "    }\n",
              "\n",
              "    .colab-df-convert {\n",
              "      background-color: #E8F0FE;\n",
              "      border: none;\n",
              "      border-radius: 50%;\n",
              "      cursor: pointer;\n",
              "      display: none;\n",
              "      fill: #1967D2;\n",
              "      height: 32px;\n",
              "      padding: 0 0 0 0;\n",
              "      width: 32px;\n",
              "    }\n",
              "\n",
              "    .colab-df-convert:hover {\n",
              "      background-color: #E2EBFA;\n",
              "      box-shadow: 0px 1px 2px rgba(60, 64, 67, 0.3), 0px 1px 3px 1px rgba(60, 64, 67, 0.15);\n",
              "      fill: #174EA6;\n",
              "    }\n",
              "\n",
              "    [theme=dark] .colab-df-convert {\n",
              "      background-color: #3B4455;\n",
              "      fill: #D2E3FC;\n",
              "    }\n",
              "\n",
              "    [theme=dark] .colab-df-convert:hover {\n",
              "      background-color: #434B5C;\n",
              "      box-shadow: 0px 1px 3px 1px rgba(0, 0, 0, 0.15);\n",
              "      filter: drop-shadow(0px 1px 2px rgba(0, 0, 0, 0.3));\n",
              "      fill: #FFFFFF;\n",
              "    }\n",
              "  </style>\n",
              "\n",
              "      <script>\n",
              "        const buttonEl =\n",
              "          document.querySelector('#df-7a152adc-c637-4d00-989f-2c9858a4c533 button.colab-df-convert');\n",
              "        buttonEl.style.display =\n",
              "          google.colab.kernel.accessAllowed ? 'block' : 'none';\n",
              "\n",
              "        async function convertToInteractive(key) {\n",
              "          const element = document.querySelector('#df-7a152adc-c637-4d00-989f-2c9858a4c533');\n",
              "          const dataTable =\n",
              "            await google.colab.kernel.invokeFunction('convertToInteractive',\n",
              "                                                     [key], {});\n",
              "          if (!dataTable) return;\n",
              "\n",
              "          const docLinkHtml = 'Like what you see? Visit the ' +\n",
              "            '<a target=\"_blank\" href=https://colab.research.google.com/notebooks/data_table.ipynb>data table notebook</a>'\n",
              "            + ' to learn more about interactive tables.';\n",
              "          element.innerHTML = '';\n",
              "          dataTable['output_type'] = 'display_data';\n",
              "          await google.colab.output.renderOutput(dataTable, element);\n",
              "          const docLink = document.createElement('div');\n",
              "          docLink.innerHTML = docLinkHtml;\n",
              "          element.appendChild(docLink);\n",
              "        }\n",
              "      </script>\n",
              "    </div>\n",
              "  </div>\n",
              "  "
            ]
          },
          "metadata": {},
          "execution_count": 12
        }
      ]
    },
    {
      "cell_type": "markdown",
      "source": [
        "Strategy specification (1-month Moving Average)"
      ],
      "metadata": {
        "id": "to2vAkMXo6cD"
      }
    },
    {
      "cell_type": "code",
      "source": [
        ""
      ],
      "metadata": {
        "id": "bKAocH5Do5Pv"
      },
      "execution_count": null,
      "outputs": []
    }
  ]
}