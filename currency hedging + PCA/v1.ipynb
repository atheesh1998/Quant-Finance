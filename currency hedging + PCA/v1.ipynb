{
 "cells": [
  {
   "cell_type": "code",
   "execution_count": 2,
   "metadata": {},
   "outputs": [],
   "source": [
    "import pandas as pd\n",
    "import requests\n",
    "import os\n",
    "from io import StringIO\n",
    "import numpy as np"
   ]
  },
  {
   "cell_type": "markdown",
   "metadata": {},
   "source": [
    "# Getting FX Data"
   ]
  },
  {
   "cell_type": "code",
   "execution_count": 3,
   "metadata": {},
   "outputs": [],
   "source": [
    "def _pull_data(ccy):\n",
    "    print(ccy)\n",
    "    # Making an API request to AlphaVantage for FX daily data\n",
    "    response = requests.get(f'https://www.alphavantage.co/query?function=FX_DAILY&from_symbol=USD&to_symbol={ccy}&outputsize=full&datatype=csv&apikey=YOUR_API_KEY')\n",
    "    # Use StringIO to simulate a file for pandas read_csv\n",
    "    df = pd.read_csv(StringIO(response.text))\n",
    "    df['Date'] = pd.to_datetime(df['timestamp'])\n",
    "    df['c'] = df['close'].astype(float)\n",
    "    df['ccy'] = ccy\n",
    "    df = df.sort_values('Date')\n",
    "    df['LogReturn'] = df['c'].apply(lambda x: np.log(x)).diff()\n",
    "    return df\n",
    "\n",
    "def pull_data(ccy):\n",
    "    if os.path.isfile(f\"{ccy}.csv\"):\n",
    "        df = pd.read_csv(f\"{ccy}.csv\")\n",
    "    else:\n",
    "        df = _pull_data(ccy)\n",
    "        df.to_csv(f\"{ccy}.csv\", index=False)\n",
    "    return df"
   ]
  },
  {
   "cell_type": "code",
   "execution_count": 4,
   "metadata": {},
   "outputs": [
    {
     "name": "stdout",
     "output_type": "stream",
     "text": [
      "JPY\n",
      "CNH\n",
      "SGD\n",
      "THB\n",
      "HKD\n",
      "KRW\n",
      "TWD\n"
     ]
    }
   ],
   "source": [
    "ccys = [\"JPY\", \"CNH\", \"SGD\", \"THB\", \"HKD\", \"KRW\", \"TWD\"]\n",
    "results = pd.concat([pull_data(ccy) for ccy in ccys])\n",
    "\n",
    "results = results.sort_values('Date')\n",
    "results['LogReturn'] = results.groupby('ccy')['c'].transform(lambda x: np.log(x).diff())\n",
    "results = results[results['Date'] >= pd.Timestamp(\"2014-11-24\")]"
   ]
  },
  {
   "cell_type": "code",
   "execution_count": null,
   "metadata": {},
   "outputs": [],
   "source": []
  }
 ],
 "metadata": {
  "kernelspec": {
   "display_name": "base",
   "language": "python",
   "name": "python3"
  },
  "language_info": {
   "codemirror_mode": {
    "name": "ipython",
    "version": 3
   },
   "file_extension": ".py",
   "mimetype": "text/x-python",
   "name": "python",
   "nbconvert_exporter": "python",
   "pygments_lexer": "ipython3",
   "version": "3.11.5"
  }
 },
 "nbformat": 4,
 "nbformat_minor": 2
}
